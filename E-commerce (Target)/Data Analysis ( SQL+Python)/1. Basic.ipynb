{
 "cells": [
  {
   "cell_type": "code",
   "execution_count": 1,
   "id": "39a183dc-f139-475b-a3d9-6f6e0be28fb4",
   "metadata": {},
   "outputs": [],
   "source": [
    "import pandas as pd\n",
    "import matplotlib.pyplot as plt\n",
    "import seaborn as sns\n",
    "import mysql.connector\n",
    "\n",
    "db = mysql.connector.connect(host = \"localhost\",\n",
    "                             username = \"root\",\n",
    "                             password = \"150705\",\n",
    "                             database = \"ecommerce\")\n",
    "cur = db.cursor()"
   ]
  },
  {
   "cell_type": "markdown",
   "id": "eaf6ebfb-e667-4129-866c-86f8e58a33ee",
   "metadata": {},
   "source": [
    "# List all unique cities where customers are located.\n"
   ]
  },
  {
   "cell_type": "code",
   "execution_count": 23,
   "id": "55154f19-11d6-4006-9cb2-4c17e21cefa7",
   "metadata": {},
   "outputs": [
    {
     "data": {
      "text/html": [
       "<div>\n",
       "<style scoped>\n",
       "    .dataframe tbody tr th:only-of-type {\n",
       "        vertical-align: middle;\n",
       "    }\n",
       "\n",
       "    .dataframe tbody tr th {\n",
       "        vertical-align: top;\n",
       "    }\n",
       "\n",
       "    .dataframe thead th {\n",
       "        text-align: right;\n",
       "    }\n",
       "</style>\n",
       "<table border=\"1\" class=\"dataframe\">\n",
       "  <thead>\n",
       "    <tr style=\"text-align: right;\">\n",
       "      <th></th>\n",
       "      <th>0</th>\n",
       "    </tr>\n",
       "  </thead>\n",
       "  <tbody>\n",
       "    <tr>\n",
       "      <th>0</th>\n",
       "      <td>franca</td>\n",
       "    </tr>\n",
       "    <tr>\n",
       "      <th>1</th>\n",
       "      <td>sao bernardo do campo</td>\n",
       "    </tr>\n",
       "    <tr>\n",
       "      <th>2</th>\n",
       "      <td>sao paulo</td>\n",
       "    </tr>\n",
       "    <tr>\n",
       "      <th>3</th>\n",
       "      <td>mogi das cruzes</td>\n",
       "    </tr>\n",
       "    <tr>\n",
       "      <th>4</th>\n",
       "      <td>campinas</td>\n",
       "    </tr>\n",
       "  </tbody>\n",
       "</table>\n",
       "</div>"
      ],
      "text/plain": [
       "                       0\n",
       "0                 franca\n",
       "1  sao bernardo do campo\n",
       "2              sao paulo\n",
       "3        mogi das cruzes\n",
       "4               campinas"
      ]
     },
     "execution_count": 23,
     "metadata": {},
     "output_type": "execute_result"
    }
   ],
   "source": [
    "query = \"\"\" select distinct(customer_city) from customers \"\"\"\n",
    "\n",
    "\n",
    "cur.execute(query)\n",
    "\n",
    "data = cur.fetchall()\n",
    "\n",
    "df = pd.DataFrame(data)\n",
    "df.head()"
   ]
  },
  {
   "cell_type": "markdown",
   "id": "42f302c0-df30-4f82-95a4-9c764129ead9",
   "metadata": {},
   "source": [
    "#  Count the number of orders placed in 2017."
   ]
  },
  {
   "cell_type": "code",
   "execution_count": 6,
   "id": "14334378-bfb9-4308-b7ba-6842b0e55caf",
   "metadata": {},
   "outputs": [
    {
     "data": {
      "text/plain": [
       "('total orders placed in 2017 are', 180404)"
      ]
     },
     "execution_count": 6,
     "metadata": {},
     "output_type": "execute_result"
    }
   ],
   "source": [
    "query = \"\"\" select count(order_id) from orders where year(order_purchase_timestamp) = 2017 \"\"\"\n",
    "\n",
    "\n",
    "cur.execute(query)\n",
    "\n",
    "data = cur.fetchall()\n",
    "\n",
    "\"total orders placed in 2017 are\",data[0][0]"
   ]
  },
  {
   "cell_type": "markdown",
   "id": "e7142de6-4843-4fce-9a70-20387a12dc09",
   "metadata": {},
   "source": [
    "# Find the total sales per category."
   ]
  },
  {
   "cell_type": "code",
   "execution_count": 11,
   "id": "8b257c9a-cc12-46a3-bf77-b9c5f967dd84",
   "metadata": {},
   "outputs": [
    {
     "data": {
      "text/plain": [
       "[('perfumery', 1520215.98),\n",
       " ('Furniture Decoration', 4290529.18),\n",
       " ('telephony', 1460646.15),\n",
       " ('bed table bath', 5137661.01),\n",
       " ('automotive', 2556882.99),\n",
       " ('computer accessories', 4755991.34),\n",
       " ('housewares', 3284274.39),\n",
       " ('babies', 1619536.98),\n",
       " ('toys', 1857113.07),\n",
       " ('Furniture office', 1940479.46),\n",
       " ('Cool Stuff', 2339094.0),\n",
       " ('HEALTH BEAUTY', 4972119.36),\n",
       " ('pet Shop', 933806.91),\n",
       " ('General Interest Books', 194084.28),\n",
       " ('stationary store', 952320.21),\n",
       " ('Watches present', 4287650.04),\n",
       " ('PCs', 837364.65),\n",
       " ('climatization', 273511.98),\n",
       " ('Construction Tools Construction', 724426.89),\n",
       " ('sport leisure', 4176382.68),\n",
       " ('Bags Accessories', 561453.87),\n",
       " ('electronics', 779571.3),\n",
       " ('Casa Construcao', 409935.87),\n",
       " ('Games consoles', 586441.14),\n",
       " ('Fashion Bags and Accessories', 654474.84),\n",
       " ('home appliances', 286596.81),\n",
       " ('Garden tools', 2514842.25),\n",
       " ('Agro Industria e Comercio', 356191.83),\n",
       " (None, 758405.13),\n",
       " ('audio', 180973.86),\n",
       " ('technical books', 74746.32),\n",
       " ('Construction Tools Garden', 127183.23),\n",
       " ('Market Place', 136007.76),\n",
       " ('musical instruments', 699222.36),\n",
       " ('Drink foods', 81869.19),\n",
       " ('SIGNALIZATION AND SAFETY', 205464.15),\n",
       " ('Furniture Kitchen Service Area Dinner and Garden', 223982.94),\n",
       " ('song', 20704.29),\n",
       " ('HOUSE PASTALS OVEN AND CAFE', 153687.96),\n",
       " ('fixed telephony', 621030.78),\n",
       " ('Room Furniture', 408416.31),\n",
       " ('Construction Tools Tools', 63207.21),\n",
       " ('House comfort', 252987.18),\n",
       " ('Industry Commerce and Business', 170237.28),\n",
       " ('Construction Tools Illumination', 218137.44),\n",
       " ('ELECTRICES 2', 373690.38),\n",
       " ('Fashion Calcados', 97268.22),\n",
       " ('Fashion Underwear and Beach Fashion', 38143.62),\n",
       " ('electrostile', 676753.14),\n",
       " ('foods', 139286.01),\n",
       " ('IMAGE IMPORT TABLETS', 30128.79),\n",
       " ('Art', 92978.79),\n",
       " ('drinks', 214288.95),\n",
       " ('Arts and Crafts', 6978.51),\n",
       " (\"Fashion Women's Clothing\", 15328.86),\n",
       " ('CONSTRUCTION SECURITY TOOLS', 197073.09),\n",
       " ('Christmas articles', 56984.31),\n",
       " ('flowers', 6639.03),\n",
       " (\"Fashion Men's Clothing\", 51872.94),\n",
       " ('Fashion Sport', 10937.76),\n",
       " ('Furniture', 94796.82),\n",
       " ('cine photo', 28590.96),\n",
       " ('Blu Ray DVDs', 23805.84),\n",
       " ('party articles', 17898.93),\n",
       " ('Imported books', 20105.67),\n",
       " ('Hygiene diapers', 12663.75),\n",
       " ('House Comfort 2', 5131.62),\n",
       " ('CITTE AND UPHACK FURNITURE', 17995.62),\n",
       " ('Kitchen portable and food coach', 13006.95),\n",
       " ('cds music dvds', 3598.29),\n",
       " ('La Cuisine', 8740.59),\n",
       " (\"Fashion Children's Clothing\", 2357.01),\n",
       " ('PC Gamer', 6523.29),\n",
       " ('insurance and services', 973.53)]"
      ]
     },
     "execution_count": 11,
     "metadata": {},
     "output_type": "execute_result"
    }
   ],
   "source": [
    "query = \"\"\" select products.productcategory category,\n",
    "round(sum(payments.payment_value),2) sales\n",
    "from products join order_items\n",
    "on products.product_id = order_items.product_id\n",
    "join payments\n",
    "on payments.order_id = order_items.order_id\n",
    "group by category\n",
    "\"\"\"\n",
    "\n",
    "\n",
    "cur.execute(query)\n",
    "\n",
    "data = cur.fetchall()\n",
    "\n",
    "data"
   ]
  },
  {
   "cell_type": "markdown",
   "id": "620c4738-48b0-4a13-9640-784d477b7475",
   "metadata": {},
   "source": [
    "# Calculate the percentage of orders that were paid in installments.\n"
   ]
  },
  {
   "cell_type": "code",
   "execution_count": 15,
   "id": "7a97f8ba-9fea-49b6-8526-aa3fdfe274aa",
   "metadata": {},
   "outputs": [
    {
     "data": {
      "text/plain": [
       "('the percentage of orders that were paid in installments is',\n",
       " Decimal('99.9981'))"
      ]
     },
     "execution_count": 15,
     "metadata": {},
     "output_type": "execute_result"
    }
   ],
   "source": [
    "query = \"\"\" select (sum(case when payment_installments >=1 then 1\n",
    "else 0 end))/count(*)*100 from payments \"\"\"\n",
    "\n",
    "\n",
    "cur.execute(query)\n",
    "\n",
    "data = cur.fetchall()\n",
    "\n",
    "\"the percentage of orders that were paid in installments is\",data[0][0]"
   ]
  },
  {
   "cell_type": "markdown",
   "id": "d1c61b8b-7947-4a15-bd94-50bc7caee97d",
   "metadata": {},
   "source": [
    "# Count the number of customers from each state."
   ]
  },
  {
   "cell_type": "code",
   "execution_count": 22,
   "id": "b4d94d7c-de1b-4424-876f-b3453e600f4c",
   "metadata": {},
   "outputs": [
    {
     "data": {
      "image/png": "[encoded data removed]",
      "text/plain": [
       "<Figure size 800x300 with 1 Axes>"
      ]
     },
     "metadata": {},
     "output_type": "display_data"
    }
   ],
   "source": [
    "query = \"\"\" select customer_state , count(customer_id)\n",
    "from customers group by customer_state \"\"\"\n",
    "\n",
    "\n",
    "cur.execute(query)\n",
    "\n",
    "data = cur.fetchall()\n",
    "df = pd.DataFrame(data, columns = [\"state\", \"customer_count\" ])\n",
    "df = df.sort_values(by = \"customer_count\", ascending= False)\n",
    "plt.figure(figsize = (8,3))\n",
    "plt.bar(df[\"state\"], df[\"customer_count\"])\n",
    "plt.xticks(rotation = 90)\n",
    "plt.show()\n"
   ]
  },
  {
   "cell_type": "code",
   "execution_count": null,
   "id": "67bf6232-55cd-4ed9-921d-5cb65d70c8d3",
   "metadata": {},
   "outputs": [],
   "source": []
  }
 ],
 "metadata": {
  "kernelspec": {
   "display_name": "Python 3 (ipykernel)",
   "language": "python",
   "name": "python3"
  },
  "language_info": {
   "codemirror_mode": {
    "name": "ipython",
    "version": 3
   },
   "file_extension": ".py",
   "mimetype": "text/x-python",
   "name": "python",
   "nbconvert_exporter": "python",
   "pygments_lexer": "ipython3",
   "version": "3.13.5"
  }
 },
 "nbformat": 4,
 "nbformat_minor": 5
}
